{
 "cells": [
  {
   "cell_type": "code",
   "execution_count": 1,
   "id": "938bf51f-d347-4cf5-9d17-b7fe23b07db7",
   "metadata": {},
   "outputs": [],
   "source": [
    "import duckdb\n",
    "import os\n",
    "import sys"
   ]
  },
  {
   "cell_type": "code",
   "execution_count": 2,
   "id": "8ac1ae54-c267-4c65-8238-46ceec24d4c8",
   "metadata": {},
   "outputs": [],
   "source": [
    "diretorio = '/home/rafaelfabrichimidt/Documentos/projetos/docker/postgresql/datas/'\n",
    "files = os.listdir('/home/rafaelfabrichimidt/Documentos/projetos/docker/postgresql/datas')"
   ]
  },
  {
   "cell_type": "code",
   "execution_count": 3,
   "id": "bde1209e-5e5b-4b24-96ea-af4adec7a304",
   "metadata": {},
   "outputs": [
    {
     "data": {
      "text/plain": [
       "['eCommerce_schema.sql',\n",
       " 'customer_product_ratings.csv',\n",
       " 'campaign_product_subcategory.csv',\n",
       " 'orders.csv',\n",
       " 'supplier.csv',\n",
       " 'payment_method.csv',\n",
       " 'orderitem.csv',\n",
       " 'customer.csv',\n",
       " 'category.csv',\n",
       " 'returns.csv',\n",
       " 'marketing_campaigns.csv',\n",
       " 'schema_picture.png',\n",
       " 'product.csv',\n",
       " 'subcategory.csv']"
      ]
     },
     "execution_count": 3,
     "metadata": {},
     "output_type": "execute_result"
    }
   ],
   "source": [
    "files"
   ]
  },
  {
   "cell_type": "code",
   "execution_count": 4,
   "id": "3e61d635-fec3-4a77-a036-33e7cddde08c",
   "metadata": {},
   "outputs": [
    {
     "data": {
      "text/plain": [
       "-1"
      ]
     },
     "execution_count": 4,
     "metadata": {},
     "output_type": "execute_result"
    }
   ],
   "source": [
    "'eCommerce_schema.sql'.find('.csv')"
   ]
  },
  {
   "cell_type": "markdown",
   "id": "2757473b-141f-4a84-8860-64adc83114f6",
   "metadata": {},
   "source": [
    "## Duckdb "
   ]
  },
  {
   "cell_type": "markdown",
   "id": "704e9d82-88a8-4ae5-aaa5-ccd01c746966",
   "metadata": {},
   "source": [
    "### read_csv"
   ]
  },
  {
   "cell_type": "code",
   "execution_count": 6,
   "id": "1187cc0c-07a0-41d5-8197-953be3d42ba1",
   "metadata": {},
   "outputs": [
    {
     "name": "stdout",
     "output_type": "stream",
     "text": [
      "customer_product_ratings.csv\n",
      "campaign_product_subcategory.csv\n",
      "orders.csv\n",
      "supplier.csv\n",
      "payment_method.csv\n",
      "orderitem.csv\n",
      "customer.csv\n",
      "category.csv\n",
      "returns.csv\n",
      "marketing_campaigns.csv\n",
      "product.csv\n",
      "subcategory.csv\n"
     ]
    }
   ],
   "source": [
    "dic = {}\n",
    "for file in files:\n",
    "    if file.find('.csv') != -1:\n",
    "        print(file)\n",
    "        dic[file] = duckdb.read_csv(diretorio + file)"
   ]
  },
  {
   "cell_type": "code",
   "execution_count": 7,
   "id": "7462d9db-8dd3-4d5d-ad72-4c8350c6cd41",
   "metadata": {},
   "outputs": [
    {
     "data": {
      "text/plain": [
       "┌──────────────────────┬─────────────┬────────────┬─────────┬──────────────────────────────────────────────┬───────────┐\n",
       "│ customerproductrat…  │ customer_id │ product_id │ ratings │                    review                    │ sentiment │\n",
       "│        int64         │    int64    │   int64    │ double  │                   varchar                    │  varchar  │\n",
       "├──────────────────────┼─────────────┼────────────┼─────────┼──────────────────────────────────────────────┼───────────┤\n",
       "│                 5760 │          83 │        206 │     2.5 │ Avoid this product, it''s a complete letdo…  │ bad       │\n",
       "│                 5761 │         356 │         76 │     4.5 │ Great quality and value for money.           │ good      │\n",
       "│                 5762 │          92 │        344 │     4.0 │ Very satisfied with the product. Will buy …  │ good      │\n",
       "│                 5763 │         270 │        212 │     4.5 │ Outstanding product, I''m a happy customer.  │ good      │\n",
       "│                 5764 │         270 │        439 │     3.5 │ Fantastic purchase, exceeded my expectatio…  │ good      │\n",
       "│                 5765 │         412 │        121 │     1.5 │ Product didn't meet my expectations at all.  │ bad       │\n",
       "│                 5766 │          28 │        109 │     4.5 │ Great quality and value for money.           │ good      │\n",
       "│                 5767 │         323 │        294 │     4.5 │ Couldn't be happier with my purchase.        │ good      │\n",
       "│                 5768 │         173 │         27 │     4.0 │ Top-notch quality, worth every penny.        │ good      │\n",
       "│                 5769 │         184 │        247 │     3.5 │ Fantastic purchase, exceeded my expectatio…  │ good      │\n",
       "├──────────────────────┴─────────────┴────────────┴─────────┴──────────────────────────────────────────────┴───────────┤\n",
       "│ 10 rows                                                                                                    6 columns │\n",
       "└──────────────────────────────────────────────────────────────────────────────────────────────────────────────────────┘"
      ]
     },
     "execution_count": 7,
     "metadata": {},
     "output_type": "execute_result"
    }
   ],
   "source": [
    "dic['customer_product_ratings.csv'].limit(10)"
   ]
  },
  {
   "cell_type": "code",
   "execution_count": null,
   "id": "93bd7c00-a1a1-44be-96d6-4ce162bb64ba",
   "metadata": {},
   "outputs": [],
   "source": [
    "#deu erro \n",
    "duckdb.read_csv(\"/home/rafaelfabrichimidt/Documentos/projetos/docker/postgresql/datas/*.csv\")"
   ]
  },
  {
   "cell_type": "markdown",
   "id": "f1b20a6d-95d1-4cfa-8e23-495b8a23bd5f",
   "metadata": {},
   "source": [
    "### connect as default or memory"
   ]
  },
  {
   "cell_type": "code",
   "execution_count": 4,
   "id": "328229bf-e2c4-42b1-b3c4-0ad0bdd5e2ef",
   "metadata": {},
   "outputs": [
    {
     "data": {
      "text/plain": [
       "┌────────────────┬──────────────────┬─────────────┐\n",
       "│ subcategory_id │ subcategory_name │ category_id │\n",
       "│     int64      │     varchar      │    int64    │\n",
       "├────────────────┼──────────────────┼─────────────┤\n",
       "│              1 │ Smartphones      │           1 │\n",
       "│              2 │ Laptops          │           1 │\n",
       "│              3 │ Headphones       │           1 │\n",
       "│              4 │ Cameras          │           1 │\n",
       "│              5 │ Wearables        │           1 │\n",
       "│              6 │ T-Shirts         │           2 │\n",
       "│              7 │ Dresses          │           2 │\n",
       "│              8 │ Jeans            │           2 │\n",
       "│              9 │ Sweaters         │           2 │\n",
       "│             10 │ Activewear       │           2 │\n",
       "├────────────────┴──────────────────┴─────────────┤\n",
       "│ 10 rows                               3 columns │\n",
       "└─────────────────────────────────────────────────┘"
      ]
     },
     "execution_count": 4,
     "metadata": {},
     "output_type": "execute_result"
    }
   ],
   "source": [
    "conn = duckdb.connect(database = ':default:', read_only = False)\n",
    "conn.sql('SELECT * FROM \"/home/rafaelfabrichimidt/Documentos/projetos/docker/postgresql/datas/subcategory.csv\" LIMIT 10')"
   ]
  },
  {
   "cell_type": "code",
   "execution_count": null,
   "id": "0d56c80f-338b-40fc-b9bb-103bbb60c2a4",
   "metadata": {},
   "outputs": [],
   "source": [
    "conn = duckdb.connect(database = ':default:', read_only = False)\n",
    "df = conn.sql('SELECT * FROM \"/home/rafaelfabrichimidt/Documentos/projetos/docker/postgresql/datas/subcategory.csv\" ')\n",
    "conn.sql('SELECT * FROM df LIMIT 10')"
   ]
  },
  {
   "cell_type": "code",
   "execution_count": 9,
   "id": "504271e3-3979-4b7b-bb0f-eaeb04ff89a6",
   "metadata": {},
   "outputs": [
    {
     "name": "stdout",
     "output_type": "stream",
     "text": [
      "/home/rafaelfabrichimidt/Documentos/projetos/docker/postgresql/datas/customer_product_ratings.csv\n",
      "/home/rafaelfabrichimidt/Documentos/projetos/docker/postgresql/datas/campaign_product_subcategory.csv\n",
      "/home/rafaelfabrichimidt/Documentos/projetos/docker/postgresql/datas/orders.csv\n",
      "/home/rafaelfabrichimidt/Documentos/projetos/docker/postgresql/datas/supplier.csv\n",
      "/home/rafaelfabrichimidt/Documentos/projetos/docker/postgresql/datas/payment_method.csv\n",
      "/home/rafaelfabrichimidt/Documentos/projetos/docker/postgresql/datas/orderitem.csv\n",
      "/home/rafaelfabrichimidt/Documentos/projetos/docker/postgresql/datas/customer.csv\n",
      "/home/rafaelfabrichimidt/Documentos/projetos/docker/postgresql/datas/category.csv\n",
      "/home/rafaelfabrichimidt/Documentos/projetos/docker/postgresql/datas/returns.csv\n",
      "/home/rafaelfabrichimidt/Documentos/projetos/docker/postgresql/datas/marketing_campaigns.csv\n",
      "/home/rafaelfabrichimidt/Documentos/projetos/docker/postgresql/datas/product.csv\n",
      "/home/rafaelfabrichimidt/Documentos/projetos/docker/postgresql/datas/subcategory.csv\n"
     ]
    }
   ],
   "source": [
    "conn = duckdb.connect(database = ':memory:', read_only = False)\n",
    "for file in files:\n",
    "    if file.find('.csv') != -1:\n",
    "        print(diretorio + file)\n",
    "        conn.sql(f'''  SELECT * FROM \"{diretorio}{file}\" ''')\n"
   ]
  },
  {
   "cell_type": "markdown",
   "id": "b7a71be9-228e-4c34-b05c-59e9db709c2a",
   "metadata": {},
   "source": [
    "### CREATE TABLE"
   ]
  },
  {
   "cell_type": "markdown",
   "id": "557618cc-36a5-4b56-babf-6909481b90d2",
   "metadata": {},
   "source": [
    "#### CREATE SCHEMA"
   ]
  },
  {
   "cell_type": "markdown",
   "id": "ff72cb3c-9751-456e-9d46-f93700d50854",
   "metadata": {},
   "source": [
    "#### CREATE TABLE  "
   ]
  },
  {
   "cell_type": "code",
   "execution_count": null,
   "id": "41d3b64e-81d8-4311-9426-399097a33f0f",
   "metadata": {},
   "outputs": [],
   "source": [
    "create_schema = {}\n",
    "conn = duckdb.connect(database = ':memory:', read_only = False)\n",
    "\n",
    "for file in files:\n",
    "    if file.find('.csv') != -1:\n",
    "        print(file)\n",
    "        schema = conn.sql(f\"SELECT column_name, column_type FROM ( DESCRIBE SELECT * FROM  '{diretorio}{file}' ) \").fetchnumpy()\n",
    "        column_name = schema['column_name'].tolist()\n",
    "        column_type = schema['column_type'].tolist()\n",
    "        variabels_type_ddl = \"\"\n",
    "        for i in range(0,len(column_type),1):\n",
    "            \n",
    "            if column_type[i] == 'DOUBLE':\n",
    "                    column_type[i] = 'DOUBLE PRECISION'\n",
    "            \n",
    "            if i != len(column_type) - 1:\n",
    "                    \n",
    "                texto = f\"{column_name[i]} {column_type[i]}, \\n \"\n",
    "                \n",
    "            else:\n",
    "\n",
    "                \n",
    "                texto = f\"{column_name[i]} {column_type[i]}\"\n",
    "\n",
    "            variabels_type_ddl = variabels_type_ddl + texto\n",
    "\n",
    "        \n",
    "            create_schema[file] = variabels_type_ddl\n",
    "\n",
    "\n",
    "            "
   ]
  },
  {
   "cell_type": "code",
   "execution_count": 55,
   "id": "069350e6-1622-470e-b41a-30c04208209d",
   "metadata": {},
   "outputs": [
    {
     "data": {
      "text/plain": [
       "'campaign_product_subcategory_id BIGINT, \\n campaign_id BIGINT, \\n subcategory_id BIGINT, \\n discount DOUBLE PRECISION'"
      ]
     },
     "execution_count": 55,
     "metadata": {},
     "output_type": "execute_result"
    }
   ],
   "source": [
    "create_schema['campaign_product_subcategory.csv']"
   ]
  },
  {
   "cell_type": "code",
   "execution_count": 58,
   "id": "ef03c203-28ae-4f3f-b3d2-f2acebb25ee6",
   "metadata": {},
   "outputs": [],
   "source": [
    "database = 'postgresql_oltp'\n",
    "schema = 'eCommerce'\n",
    "\n",
    "create_table = {}\n",
    "for file in create_schema:\n",
    "    \n",
    "    SQL_DDL = f\"CREATE TABLE {database}.{schema}.{file.split('.')[0]}  ( \\n {create_schema[file]}); \"\n",
    "    create_table[file] = SQL_DDL\n",
    "\n",
    "    with open('DDL/' + file.split('.')[0] + '.sql','w') as f:\n",
    "        f.write(create_table[file])\n",
    "        f.close()"
   ]
  },
  {
   "cell_type": "code",
   "execution_count": 57,
   "id": "e3fd3715-5bea-41b1-b1f5-9dc965a5887d",
   "metadata": {},
   "outputs": [
    {
     "name": "stdout",
     "output_type": "stream",
     "text": [
      "CREATE TABLE postgres.eCommerce.customer_product_ratings  ( \n",
      " customerproductrating_id BIGINT, \n",
      " customer_id BIGINT, \n",
      " product_id BIGINT, \n",
      " ratings DOUBLE PRECISION, \n",
      " review VARCHAR, \n",
      " sentiment VARCHAR); \n"
     ]
    }
   ],
   "source": [
    "print(create_table['customer_product_ratings.csv'])"
   ]
  },
  {
   "cell_type": "markdown",
   "id": "b6309f6f-0caf-438a-bfbe-6a1078c934ed",
   "metadata": {},
   "source": [
    "### INSERT TABLE "
   ]
  },
  {
   "cell_type": "code",
   "execution_count": 5,
   "id": "7d957063-e5fb-4f6b-a523-79c267688e91",
   "metadata": {},
   "outputs": [],
   "source": [
    "conexao_postgres = conn.execute(\"ATTACH 'dbname=postgresql_oltp user=admin host=localhost, password=12345' AS db (TYPE POSTGRES);\")"
   ]
  },
  {
   "cell_type": "raw",
   "id": "0e4c7702-eaf5-4434-82e6-1e5df66e4119",
   "metadata": {},
   "source": [
    "Verificando cada DDL gerada e criando tabela manualmente pela IDE Dbeaver"
   ]
  },
  {
   "cell_type": "code",
   "execution_count": 62,
   "id": "da719322-3f9b-43e9-a909-1c212e9c2e78",
   "metadata": {},
   "outputs": [
    {
     "data": {
      "text/plain": [
       "<duckdb.duckdb.DuckDBPyConnection at 0x73a20400edb0>"
      ]
     },
     "execution_count": 62,
     "metadata": {},
     "output_type": "execute_result"
    }
   ],
   "source": [
    "conexao_postgres"
   ]
  },
  {
   "cell_type": "code",
   "execution_count": 6,
   "id": "11b9cd29-7c46-451e-bce4-7b45036f0aba",
   "metadata": {},
   "outputs": [
    {
     "name": "stdout",
     "output_type": "stream",
     "text": [
      "customer_product_ratings.csv\n",
      "campaign_product_subcategory.csv\n",
      "orders.csv\n",
      "supplier.csv\n",
      "payment_method.csv\n",
      "orderitem.csv\n",
      "customer.csv\n",
      "category.csv\n",
      "returns.csv\n",
      "marketing_campaigns.csv\n",
      "product.csv\n",
      "subcategory.csv\n"
     ]
    }
   ],
   "source": [
    "for file in files:\n",
    "    if file.find('.csv') != -1:\n",
    "        print(file)\n",
    "        conexao_postgres.sql(f'''\n",
    "                    \n",
    "                    INSERT INTO\n",
    "                    db.eCommerce.{file.split('.')[0]}\n",
    "                    SELECT * FROM '{diretorio}{file}'\n",
    "        \n",
    "        ''')"
   ]
  },
  {
   "cell_type": "code",
   "execution_count": 70,
   "id": "1dcbb3c3-25bb-4faf-aa51-6b0e928da3a0",
   "metadata": {},
   "outputs": [
    {
     "data": {
      "text/plain": [
       "┌──────────┬───────────┬──────────────────────┬──────────────────────┬─────────────────────────────────────┬───────────┐\n",
       "│ database │  schema   │         name         │     column_names     │            column_types             │ temporary │\n",
       "│ varchar  │  varchar  │       varchar        │      varchar[]       │              varchar[]              │  boolean  │\n",
       "├──────────┼───────────┼──────────────────────┼──────────────────────┼─────────────────────────────────────┼───────────┤\n",
       "│ db       │ ecommerce │ campaign_product_s…  │ [campaign_product_…  │ [BIGINT, BIGINT, BIGINT, DOUBLE]    │ false     │\n",
       "│ db       │ ecommerce │ category             │ [category_id, cate…  │ [BIGINT, VARCHAR]                   │ false     │\n",
       "│ db       │ ecommerce │ customer             │ [customer_id, firs…  │ [BIGINT, VARCHAR, VARCHAR, VARCHA…  │ false     │\n",
       "│ db       │ ecommerce │ customer_product_r…  │ [customerproductra…  │ [BIGINT, BIGINT, BIGINT, DOUBLE, …  │ false     │\n",
       "│ db       │ ecommerce │ marketing_campaigns  │ [campaign_id, camp…  │ [BIGINT, VARCHAR, BIGINT]           │ false     │\n",
       "│ db       │ ecommerce │ orderitem            │ [orderitem_id, ord…  │ [BIGINT, BIGINT, BIGINT, BIGINT, …  │ false     │\n",
       "│ db       │ ecommerce │ orders               │ [order_id_surrogat…  │ [BIGINT, BIGINT, BIGINT, DATE, BI…  │ false     │\n",
       "│ db       │ ecommerce │ payment_method       │ [payment_method_id…  │ [BIGINT, VARCHAR]                   │ false     │\n",
       "│ db       │ ecommerce │ product              │ [product_id, name,…  │ [BIGINT, VARCHAR, DOUBLE, VARCHAR…  │ false     │\n",
       "│ db       │ ecommerce │ returns              │ [return_id, order_…  │ [BIGINT, BIGINT, BIGINT, DATE, VA…  │ false     │\n",
       "│ db       │ ecommerce │ subcategory          │ [subcategory_id, s…  │ [BIGINT, VARCHAR, BIGINT]           │ false     │\n",
       "│ db       │ ecommerce │ supplier             │ [supplier_id, supp…  │ [BIGINT, VARCHAR, VARCHAR]          │ false     │\n",
       "├──────────┴───────────┴──────────────────────┴──────────────────────┴─────────────────────────────────────┴───────────┤\n",
       "│ 12 rows                                                                                                    6 columns │\n",
       "└──────────────────────────────────────────────────────────────────────────────────────────────────────────────────────┘"
      ]
     },
     "execution_count": 70,
     "metadata": {},
     "output_type": "execute_result"
    }
   ],
   "source": [
    "conexao_postgres.sql(f''' SHOW ALL TABLES ''')\n"
   ]
  },
  {
   "cell_type": "code",
   "execution_count": 12,
   "id": "ec2739ce-7054-413a-bd03-cf5516b9ad85",
   "metadata": {},
   "outputs": [
    {
     "data": {
      "text/plain": [
       "{'column_name': array(['subcategory_id', 'subcategory_name', 'category_id'], dtype=object),\n",
       " 'column_type': array(['BIGINT', 'VARCHAR', 'BIGINT'], dtype=object)}"
      ]
     },
     "execution_count": 12,
     "metadata": {},
     "output_type": "execute_result"
    }
   ],
   "source": [
    "conn.sql(f\"SELECT column_name, column_type FROM ( DESCRIBE SELECT * FROM  '{diretorio}{file}' ) \").fetchnumpy()"
   ]
  }
 ],
 "metadata": {
  "kernelspec": {
   "display_name": "Python 3 (ipykernel)",
   "language": "python",
   "name": "python3"
  },
  "language_info": {
   "codemirror_mode": {
    "name": "ipython",
    "version": 3
   },
   "file_extension": ".py",
   "mimetype": "text/x-python",
   "name": "python",
   "nbconvert_exporter": "python",
   "pygments_lexer": "ipython3",
   "version": "3.10.12"
  }
 },
 "nbformat": 4,
 "nbformat_minor": 5
}
