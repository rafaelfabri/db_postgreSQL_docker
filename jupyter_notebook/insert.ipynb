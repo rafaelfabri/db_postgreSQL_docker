{
 "cells": [
  {
   "cell_type": "code",
   "execution_count": 2,
   "id": "938bf51f-d347-4cf5-9d17-b7fe23b07db7",
   "metadata": {},
   "outputs": [],
   "source": [
    "import duckdb\n",
    "import os\n",
    "import sys\n"
   ]
  },
  {
   "cell_type": "code",
   "execution_count": 16,
   "id": "8ac1ae54-c267-4c65-8238-46ceec24d4c8",
   "metadata": {},
   "outputs": [],
   "source": [
    "diretorio = '/home/rafaelfabrichimidt/Documentos/projetos/docker/postgresql/datas/'\n",
    "files = os.listdir('/home/rafaelfabrichimidt/Documentos/projetos/docker/postgresql/datas')"
   ]
  },
  {
   "cell_type": "code",
   "execution_count": 17,
   "id": "bde1209e-5e5b-4b24-96ea-af4adec7a304",
   "metadata": {},
   "outputs": [
    {
     "data": {
      "text/plain": [
       "['eCommerce_schema.sql',\n",
       " 'customer_product_ratings.csv',\n",
       " 'campaign_product_subcategory.csv',\n",
       " 'orders.csv',\n",
       " 'supplier.csv',\n",
       " 'payment_method.csv',\n",
       " 'orderitem.csv',\n",
       " 'customer.csv',\n",
       " 'category.csv',\n",
       " 'returns.csv',\n",
       " 'marketing_campaigns.csv',\n",
       " 'schema_picture.png',\n",
       " 'product.csv',\n",
       " 'subcategory.csv']"
      ]
     },
     "execution_count": 17,
     "metadata": {},
     "output_type": "execute_result"
    }
   ],
   "source": [
    "files"
   ]
  },
  {
   "cell_type": "code",
   "execution_count": 18,
   "id": "3e61d635-fec3-4a77-a036-33e7cddde08c",
   "metadata": {},
   "outputs": [
    {
     "data": {
      "text/plain": [
       "-1"
      ]
     },
     "execution_count": 18,
     "metadata": {},
     "output_type": "execute_result"
    }
   ],
   "source": [
    "'eCommerce_schema.sql'.find('.csv')"
   ]
  },
  {
   "cell_type": "code",
   "execution_count": 40,
   "id": "1187cc0c-07a0-41d5-8197-953be3d42ba1",
   "metadata": {},
   "outputs": [
    {
     "name": "stdout",
     "output_type": "stream",
     "text": [
      "customer_product_ratings.csv\n",
      "campaign_product_subcategory.csv\n",
      "orders.csv\n",
      "supplier.csv\n",
      "payment_method.csv\n",
      "orderitem.csv\n",
      "customer.csv\n",
      "category.csv\n",
      "returns.csv\n",
      "marketing_campaigns.csv\n",
      "product.csv\n",
      "subcategory.csv\n"
     ]
    }
   ],
   "source": [
    "dic = {}\n",
    "for file in files:\n",
    "    if file.find('.csv') != -1:\n",
    "        print(file)\n",
    "        dic[file] = duckdb.read_csv(diretorio + file)"
   ]
  },
  {
   "cell_type": "code",
   "execution_count": 42,
   "id": "7462d9db-8dd3-4d5d-ad72-4c8350c6cd41",
   "metadata": {},
   "outputs": [
    {
     "data": {
      "text/plain": [
       "┌──────────────────────┬─────────────┬────────────┬─────────┬──────────────────────────────────────────────┬───────────┐\n",
       "│ customerproductrat…  │ customer_id │ product_id │ ratings │                    review                    │ sentiment │\n",
       "│        int64         │    int64    │   int64    │ double  │                   varchar                    │  varchar  │\n",
       "├──────────────────────┼─────────────┼────────────┼─────────┼──────────────────────────────────────────────┼───────────┤\n",
       "│                 5760 │          83 │        206 │     2.5 │ Avoid this product, it''s a complete letdo…  │ bad       │\n",
       "│                 5761 │         356 │         76 │     4.5 │ Great quality and value for money.           │ good      │\n",
       "│                 5762 │          92 │        344 │     4.0 │ Very satisfied with the product. Will buy …  │ good      │\n",
       "│                 5763 │         270 │        212 │     4.5 │ Outstanding product, I''m a happy customer.  │ good      │\n",
       "│                 5764 │         270 │        439 │     3.5 │ Fantastic purchase, exceeded my expectatio…  │ good      │\n",
       "│                 5765 │         412 │        121 │     1.5 │ Product didn't meet my expectations at all.  │ bad       │\n",
       "│                 5766 │          28 │        109 │     4.5 │ Great quality and value for money.           │ good      │\n",
       "│                 5767 │         323 │        294 │     4.5 │ Couldn't be happier with my purchase.        │ good      │\n",
       "│                 5768 │         173 │         27 │     4.0 │ Top-notch quality, worth every penny.        │ good      │\n",
       "│                 5769 │         184 │        247 │     3.5 │ Fantastic purchase, exceeded my expectatio…  │ good      │\n",
       "│                   ·  │          ·  │         ·  │      ·  │                   ·                          │  ·        │\n",
       "│                   ·  │          ·  │         ·  │      ·  │                   ·                          │  ·        │\n",
       "│                   ·  │          ·  │         ·  │      ·  │                   ·                          │  ·        │\n",
       "│                10750 │         372 │        244 │     3.5 │ Quality product, exactly as described.       │ good      │\n",
       "│                10751 │         266 │        136 │     1.0 │ Product didn't meet my expectations at all.  │ bad       │\n",
       "│                10752 │          72 │        116 │     1.5 │ Product arrived damaged, no response from …  │ bad       │\n",
       "│                10753 │         145 │        353 │     2.0 │ Cheaply made, fell apart after a short time. │ bad       │\n",
       "│                10754 │         486 │        229 │     4.5 │ Great quality and value for money.           │ good      │\n",
       "│                10755 │          60 │        342 │     4.5 │ Very satisfied with the product. Will buy …  │ good      │\n",
       "│                10756 │         127 │        304 │     4.0 │ Excellent product! Highly recommended.       │ good      │\n",
       "│                10757 │         219 │        253 │     3.5 │ Very satisfied with the product. Will buy …  │ good      │\n",
       "│                10758 │         280 │        432 │     4.5 │ Top-notch quality, worth every penny.        │ good      │\n",
       "│                10759 │         143 │        115 │     4.0 │ Excellent product! Highly recommended.       │ good      │\n",
       "├──────────────────────┴─────────────┴────────────┴─────────┴──────────────────────────────────────────────┴───────────┤\n",
       "│ 5000 rows (20 shown)                                                                                       6 columns │\n",
       "└──────────────────────────────────────────────────────────────────────────────────────────────────────────────────────┘"
      ]
     },
     "execution_count": 42,
     "metadata": {},
     "output_type": "execute_result"
    }
   ],
   "source": [
    "dic['customer_product_ratings.csv']"
   ]
  },
  {
   "cell_type": "code",
   "execution_count": 50,
   "id": "f0fa67e5-ccb4-4e0a-9f80-84e290d6fa7e",
   "metadata": {},
   "outputs": [
    {
     "ename": "ConversionException",
     "evalue": "Conversion Error: CSV Error on Line: 2\nOriginal Line: 1,Electronics\nError when converting column \"campaign_id\". Could not convert string \"Electronics\" to 'BIGINT'\n\nColumn campaign_id is being converted as type BIGINT\nThis type was auto-detected from the CSV file.\nPossible solutions:\n* Override the type for this column manually by setting the type explicitly, e.g. types={'campaign_id': 'VARCHAR'}\n* Set the sample size to a larger value to enable the auto-detection to scan more values, e.g. sample_size=-1\n* Use a COPY statement to automatically derive types from an existing table.\n\n  file=\n  delimiter = , (Set By User)\n  quote = \" (Set By User)\n  escape = \" (Set By User)\n  new_line = \\n (Auto-Detected)\n  header = true (Set By User)\n  skip_rows = 0 (Set By User)\n  date_format =  (Auto-Detected)\n  timestamp_format =  (Auto-Detected)\n  null_padding=0\n  sample_size=20480\n  ignore_errors=false\n  all_varchar=0\n\n",
     "output_type": "error",
     "traceback": [
      "\u001b[0;31m---------------------------------------------------------------------------\u001b[0m",
      "\u001b[0;31mConversionException\u001b[0m                       Traceback (most recent call last)",
      "File \u001b[0;32m~/Documentos/env-python/env/lib/python3.10/site-packages/IPython/core/formatters.py:711\u001b[0m, in \u001b[0;36mPlainTextFormatter.__call__\u001b[0;34m(self, obj)\u001b[0m\n\u001b[1;32m    704\u001b[0m stream \u001b[38;5;241m=\u001b[39m StringIO()\n\u001b[1;32m    705\u001b[0m printer \u001b[38;5;241m=\u001b[39m pretty\u001b[38;5;241m.\u001b[39mRepresentationPrinter(stream, \u001b[38;5;28mself\u001b[39m\u001b[38;5;241m.\u001b[39mverbose,\n\u001b[1;32m    706\u001b[0m     \u001b[38;5;28mself\u001b[39m\u001b[38;5;241m.\u001b[39mmax_width, \u001b[38;5;28mself\u001b[39m\u001b[38;5;241m.\u001b[39mnewline,\n\u001b[1;32m    707\u001b[0m     max_seq_length\u001b[38;5;241m=\u001b[39m\u001b[38;5;28mself\u001b[39m\u001b[38;5;241m.\u001b[39mmax_seq_length,\n\u001b[1;32m    708\u001b[0m     singleton_pprinters\u001b[38;5;241m=\u001b[39m\u001b[38;5;28mself\u001b[39m\u001b[38;5;241m.\u001b[39msingleton_printers,\n\u001b[1;32m    709\u001b[0m     type_pprinters\u001b[38;5;241m=\u001b[39m\u001b[38;5;28mself\u001b[39m\u001b[38;5;241m.\u001b[39mtype_printers,\n\u001b[1;32m    710\u001b[0m     deferred_pprinters\u001b[38;5;241m=\u001b[39m\u001b[38;5;28mself\u001b[39m\u001b[38;5;241m.\u001b[39mdeferred_printers)\n\u001b[0;32m--> 711\u001b[0m \u001b[43mprinter\u001b[49m\u001b[38;5;241;43m.\u001b[39;49m\u001b[43mpretty\u001b[49m\u001b[43m(\u001b[49m\u001b[43mobj\u001b[49m\u001b[43m)\u001b[49m\n\u001b[1;32m    712\u001b[0m printer\u001b[38;5;241m.\u001b[39mflush()\n\u001b[1;32m    713\u001b[0m \u001b[38;5;28;01mreturn\u001b[39;00m stream\u001b[38;5;241m.\u001b[39mgetvalue()\n",
      "File \u001b[0;32m~/Documentos/env-python/env/lib/python3.10/site-packages/IPython/lib/pretty.py:419\u001b[0m, in \u001b[0;36mRepresentationPrinter.pretty\u001b[0;34m(self, obj)\u001b[0m\n\u001b[1;32m    408\u001b[0m                         \u001b[38;5;28;01mreturn\u001b[39;00m meth(obj, \u001b[38;5;28mself\u001b[39m, cycle)\n\u001b[1;32m    409\u001b[0m                 \u001b[38;5;28;01mif\u001b[39;00m (\n\u001b[1;32m    410\u001b[0m                     \u001b[38;5;28mcls\u001b[39m \u001b[38;5;129;01mis\u001b[39;00m \u001b[38;5;129;01mnot\u001b[39;00m \u001b[38;5;28mobject\u001b[39m\n\u001b[1;32m    411\u001b[0m                     \u001b[38;5;66;03m# check if cls defines __repr__\u001b[39;00m\n\u001b[0;32m   (...)\u001b[0m\n\u001b[1;32m    417\u001b[0m                     \u001b[38;5;129;01mand\u001b[39;00m \u001b[38;5;28mcallable\u001b[39m(_safe_getattr(\u001b[38;5;28mcls\u001b[39m, \u001b[38;5;124m\"\u001b[39m\u001b[38;5;124m__repr__\u001b[39m\u001b[38;5;124m\"\u001b[39m, \u001b[38;5;28;01mNone\u001b[39;00m))\n\u001b[1;32m    418\u001b[0m                 ):\n\u001b[0;32m--> 419\u001b[0m                     \u001b[38;5;28;01mreturn\u001b[39;00m \u001b[43m_repr_pprint\u001b[49m\u001b[43m(\u001b[49m\u001b[43mobj\u001b[49m\u001b[43m,\u001b[49m\u001b[43m \u001b[49m\u001b[38;5;28;43mself\u001b[39;49m\u001b[43m,\u001b[49m\u001b[43m \u001b[49m\u001b[43mcycle\u001b[49m\u001b[43m)\u001b[49m\n\u001b[1;32m    421\u001b[0m     \u001b[38;5;28;01mreturn\u001b[39;00m _default_pprint(obj, \u001b[38;5;28mself\u001b[39m, cycle)\n\u001b[1;32m    422\u001b[0m \u001b[38;5;28;01mfinally\u001b[39;00m:\n",
      "File \u001b[0;32m~/Documentos/env-python/env/lib/python3.10/site-packages/IPython/lib/pretty.py:787\u001b[0m, in \u001b[0;36m_repr_pprint\u001b[0;34m(obj, p, cycle)\u001b[0m\n\u001b[1;32m    785\u001b[0m \u001b[38;5;250m\u001b[39m\u001b[38;5;124;03m\"\"\"A pprint that just redirects to the normal repr function.\"\"\"\u001b[39;00m\n\u001b[1;32m    786\u001b[0m \u001b[38;5;66;03m# Find newlines and replace them with p.break_()\u001b[39;00m\n\u001b[0;32m--> 787\u001b[0m output \u001b[38;5;241m=\u001b[39m \u001b[38;5;28;43mrepr\u001b[39;49m\u001b[43m(\u001b[49m\u001b[43mobj\u001b[49m\u001b[43m)\u001b[49m\n\u001b[1;32m    788\u001b[0m lines \u001b[38;5;241m=\u001b[39m output\u001b[38;5;241m.\u001b[39msplitlines()\n\u001b[1;32m    789\u001b[0m \u001b[38;5;28;01mwith\u001b[39;00m p\u001b[38;5;241m.\u001b[39mgroup():\n",
      "\u001b[0;31mConversionException\u001b[0m: Conversion Error: CSV Error on Line: 2\nOriginal Line: 1,Electronics\nError when converting column \"campaign_id\". Could not convert string \"Electronics\" to 'BIGINT'\n\nColumn campaign_id is being converted as type BIGINT\nThis type was auto-detected from the CSV file.\nPossible solutions:\n* Override the type for this column manually by setting the type explicitly, e.g. types={'campaign_id': 'VARCHAR'}\n* Set the sample size to a larger value to enable the auto-detection to scan more values, e.g. sample_size=-1\n* Use a COPY statement to automatically derive types from an existing table.\n\n  file=\n  delimiter = , (Set By User)\n  quote = \" (Set By User)\n  escape = \" (Set By User)\n  new_line = \\n (Auto-Detected)\n  header = true (Set By User)\n  skip_rows = 0 (Set By User)\n  date_format =  (Auto-Detected)\n  timestamp_format =  (Auto-Detected)\n  null_padding=0\n  sample_size=20480\n  ignore_errors=false\n  all_varchar=0\n\n"
     ]
    }
   ],
   "source": [
    "duckdb.read_csv(\"/home/rafaelfabrichimidt/Documentos/projetos/docker/postgresql/datas/*.csv\")"
   ]
  },
  {
   "cell_type": "code",
   "execution_count": 51,
   "id": "328229bf-e2c4-42b1-b3c4-0ad0bdd5e2ef",
   "metadata": {},
   "outputs": [
    {
     "data": {
      "text/plain": [
       "┌────────────────┬──────────────────┬─────────────┐\n",
       "│ subcategory_id │ subcategory_name │ category_id │\n",
       "│     int64      │     varchar      │    int64    │\n",
       "├────────────────┼──────────────────┼─────────────┤\n",
       "│              1 │ Smartphones      │           1 │\n",
       "│              2 │ Laptops          │           1 │\n",
       "│              3 │ Headphones       │           1 │\n",
       "│              4 │ Cameras          │           1 │\n",
       "│              5 │ Wearables        │           1 │\n",
       "│              6 │ T-Shirts         │           2 │\n",
       "│              7 │ Dresses          │           2 │\n",
       "│              8 │ Jeans            │           2 │\n",
       "│              9 │ Sweaters         │           2 │\n",
       "│             10 │ Activewear       │           2 │\n",
       "│              · │     ·            │           · │\n",
       "│              · │     ·            │           · │\n",
       "│              · │     ·            │           · │\n",
       "│             91 │ Running Shoes    │          19 │\n",
       "│             92 │ Casual Shoes     │          19 │\n",
       "│             93 │ Boots            │          19 │\n",
       "│             94 │ Sandals          │          19 │\n",
       "│             95 │ Athletic Shoes   │          19 │\n",
       "│             96 │ Analog Watches   │          20 │\n",
       "│             97 │ Digital Watches  │          20 │\n",
       "│             98 │ Smartwatches     │          20 │\n",
       "│             99 │ Luxury Watches   │          20 │\n",
       "│            100 │ Sports Watches   │          20 │\n",
       "├────────────────┴──────────────────┴─────────────┤\n",
       "│ 100 rows (20 shown)                   3 columns │\n",
       "└─────────────────────────────────────────────────┘"
      ]
     },
     "execution_count": 51,
     "metadata": {},
     "output_type": "execute_result"
    }
   ],
   "source": [
    "conn = duckdb.connect(database = ':default:', read_only = False)\n",
    "conn.sql('SELECT * FROM \"/home/rafaelfabrichimidt/Documentos/projetos/docker/postgresql/datas/subcategory.csv\" ')"
   ]
  },
  {
   "cell_type": "code",
   "execution_count": 87,
   "id": "504271e3-3979-4b7b-bb0f-eaeb04ff89a6",
   "metadata": {},
   "outputs": [
    {
     "name": "stdout",
     "output_type": "stream",
     "text": [
      "/home/rafaelfabrichimidt/Documentos/projetos/docker/postgresql/datas/customer_product_ratings.csv\n",
      "/home/rafaelfabrichimidt/Documentos/projetos/docker/postgresql/datas/campaign_product_subcategory.csv\n",
      "/home/rafaelfabrichimidt/Documentos/projetos/docker/postgresql/datas/orders.csv\n",
      "/home/rafaelfabrichimidt/Documentos/projetos/docker/postgresql/datas/supplier.csv\n",
      "/home/rafaelfabrichimidt/Documentos/projetos/docker/postgresql/datas/payment_method.csv\n",
      "/home/rafaelfabrichimidt/Documentos/projetos/docker/postgresql/datas/orderitem.csv\n",
      "/home/rafaelfabrichimidt/Documentos/projetos/docker/postgresql/datas/customer.csv\n",
      "/home/rafaelfabrichimidt/Documentos/projetos/docker/postgresql/datas/category.csv\n",
      "/home/rafaelfabrichimidt/Documentos/projetos/docker/postgresql/datas/returns.csv\n",
      "/home/rafaelfabrichimidt/Documentos/projetos/docker/postgresql/datas/marketing_campaigns.csv\n",
      "/home/rafaelfabrichimidt/Documentos/projetos/docker/postgresql/datas/product.csv\n",
      "/home/rafaelfabrichimidt/Documentos/projetos/docker/postgresql/datas/subcategory.csv\n"
     ]
    }
   ],
   "source": [
    "conn = duckdb.connect(database = ':memory:', read_only = False)\n",
    "for file in files:\n",
    "    if file.find('.csv') != -1:\n",
    "        print(diretorio + file)\n",
    "        conn.sql(f'''  SELECT * FROM \"{diretorio}{file}\" ''')\n"
   ]
  },
  {
   "cell_type": "code",
   "execution_count": 88,
   "id": "2026cdb9-3918-4a33-845f-038d2fd9969d",
   "metadata": {},
   "outputs": [
    {
     "data": {
      "text/plain": [
       "┌──────────────────────┬─────────────┬────────────┬─────────┬──────────────────────────────────────────────┬───────────┐\n",
       "│ customerproductrat…  │ customer_id │ product_id │ ratings │                    review                    │ sentiment │\n",
       "│        int64         │    int64    │   int64    │ double  │                   varchar                    │  varchar  │\n",
       "├──────────────────────┼─────────────┼────────────┼─────────┼──────────────────────────────────────────────┼───────────┤\n",
       "│                 5760 │          83 │        206 │     2.5 │ Avoid this product, it''s a complete letdo…  │ bad       │\n",
       "│                 5761 │         356 │         76 │     4.5 │ Great quality and value for money.           │ good      │\n",
       "│                 5762 │          92 │        344 │     4.0 │ Very satisfied with the product. Will buy …  │ good      │\n",
       "│                 5763 │         270 │        212 │     4.5 │ Outstanding product, I''m a happy customer.  │ good      │\n",
       "│                 5764 │         270 │        439 │     3.5 │ Fantastic purchase, exceeded my expectatio…  │ good      │\n",
       "│                 5765 │         412 │        121 │     1.5 │ Product didn't meet my expectations at all.  │ bad       │\n",
       "│                 5766 │          28 │        109 │     4.5 │ Great quality and value for money.           │ good      │\n",
       "│                 5767 │         323 │        294 │     4.5 │ Couldn't be happier with my purchase.        │ good      │\n",
       "│                 5768 │         173 │         27 │     4.0 │ Top-notch quality, worth every penny.        │ good      │\n",
       "│                 5769 │         184 │        247 │     3.5 │ Fantastic purchase, exceeded my expectatio…  │ good      │\n",
       "│                   ·  │          ·  │         ·  │      ·  │                   ·                          │  ·        │\n",
       "│                   ·  │          ·  │         ·  │      ·  │                   ·                          │  ·        │\n",
       "│                   ·  │          ·  │         ·  │      ·  │                   ·                          │  ·        │\n",
       "│                10750 │         372 │        244 │     3.5 │ Quality product, exactly as described.       │ good      │\n",
       "│                10751 │         266 │        136 │     1.0 │ Product didn't meet my expectations at all.  │ bad       │\n",
       "│                10752 │          72 │        116 │     1.5 │ Product arrived damaged, no response from …  │ bad       │\n",
       "│                10753 │         145 │        353 │     2.0 │ Cheaply made, fell apart after a short time. │ bad       │\n",
       "│                10754 │         486 │        229 │     4.5 │ Great quality and value for money.           │ good      │\n",
       "│                10755 │          60 │        342 │     4.5 │ Very satisfied with the product. Will buy …  │ good      │\n",
       "│                10756 │         127 │        304 │     4.0 │ Excellent product! Highly recommended.       │ good      │\n",
       "│                10757 │         219 │        253 │     3.5 │ Very satisfied with the product. Will buy …  │ good      │\n",
       "│                10758 │         280 │        432 │     4.5 │ Top-notch quality, worth every penny.        │ good      │\n",
       "│                10759 │         143 │        115 │     4.0 │ Excellent product! Highly recommended.       │ good      │\n",
       "├──────────────────────┴─────────────┴────────────┴─────────┴──────────────────────────────────────────────┴───────────┤\n",
       "│ 5000 rows (20 shown)                                                                                       6 columns │\n",
       "└──────────────────────────────────────────────────────────────────────────────────────────────────────────────────────┘"
      ]
     },
     "execution_count": 88,
     "metadata": {},
     "output_type": "execute_result"
    }
   ],
   "source": [
    "df = conn.sql('SELECT * FROM \"/home/rafaelfabrichimidt/Documentos/projetos/docker/postgresql/datas/customer_product_ratings.csv\" ')\n",
    "conn.sql('SELECT * FROM df')"
   ]
  },
  {
   "cell_type": "code",
   "execution_count": null,
   "id": "78032e42-dab7-4860-9033-3c643e822055",
   "metadata": {},
   "outputs": [],
   "source": []
  },
  {
   "cell_type": "code",
   "execution_count": 61,
   "id": "ec2739ce-7054-413a-bd03-cf5516b9ad85",
   "metadata": {},
   "outputs": [
    {
     "data": {
      "text/plain": [
       "['subcategory', 'csv']"
      ]
     },
     "execution_count": 61,
     "metadata": {},
     "output_type": "execute_result"
    }
   ],
   "source": []
  },
  {
   "cell_type": "code",
   "execution_count": 58,
   "id": "22c29aff-1601-457d-ba35-1e3f3a03d0d0",
   "metadata": {},
   "outputs": [
    {
     "data": {
      "text/plain": [
       "'/home/rafaelfabrichimidt/Documentos/projetos/docker/postgresql/datas/subcategory.csv'"
      ]
     },
     "execution_count": 58,
     "metadata": {},
     "output_type": "execute_result"
    }
   ],
   "source": [
    "diretorio+file"
   ]
  },
  {
   "cell_type": "code",
   "execution_count": 77,
   "id": "52788a0a-d40c-41a3-8359-2ce3ef198553",
   "metadata": {},
   "outputs": [],
   "source": [
    "A =  conn.sql(\"SELECT * FROM '/home/rafaelfabrichimidt/Documentos/projetos/docker/postgresql/datas/customer_product_ratings.csv' AS A\")"
   ]
  },
  {
   "cell_type": "code",
   "execution_count": 78,
   "id": "892ed56e-db1e-4945-bbaa-c27d810e46d6",
   "metadata": {},
   "outputs": [
    {
     "data": {
      "text/plain": [
       "┌──────────────────────┬─────────────┬────────────┬─────────┬──────────────────────────────────────────────┬───────────┐\n",
       "│ customerproductrat…  │ customer_id │ product_id │ ratings │                    review                    │ sentiment │\n",
       "│        int64         │    int64    │   int64    │ double  │                   varchar                    │  varchar  │\n",
       "├──────────────────────┼─────────────┼────────────┼─────────┼──────────────────────────────────────────────┼───────────┤\n",
       "│                 5760 │          83 │        206 │     2.5 │ Avoid this product, it''s a complete letdo…  │ bad       │\n",
       "│                 5761 │         356 │         76 │     4.5 │ Great quality and value for money.           │ good      │\n",
       "│                 5762 │          92 │        344 │     4.0 │ Very satisfied with the product. Will buy …  │ good      │\n",
       "│                 5763 │         270 │        212 │     4.5 │ Outstanding product, I''m a happy customer.  │ good      │\n",
       "│                 5764 │         270 │        439 │     3.5 │ Fantastic purchase, exceeded my expectatio…  │ good      │\n",
       "│                 5765 │         412 │        121 │     1.5 │ Product didn't meet my expectations at all.  │ bad       │\n",
       "│                 5766 │          28 │        109 │     4.5 │ Great quality and value for money.           │ good      │\n",
       "│                 5767 │         323 │        294 │     4.5 │ Couldn't be happier with my purchase.        │ good      │\n",
       "│                 5768 │         173 │         27 │     4.0 │ Top-notch quality, worth every penny.        │ good      │\n",
       "│                 5769 │         184 │        247 │     3.5 │ Fantastic purchase, exceeded my expectatio…  │ good      │\n",
       "│                   ·  │          ·  │         ·  │      ·  │                   ·                          │  ·        │\n",
       "│                   ·  │          ·  │         ·  │      ·  │                   ·                          │  ·        │\n",
       "│                   ·  │          ·  │         ·  │      ·  │                   ·                          │  ·        │\n",
       "│                10750 │         372 │        244 │     3.5 │ Quality product, exactly as described.       │ good      │\n",
       "│                10751 │         266 │        136 │     1.0 │ Product didn't meet my expectations at all.  │ bad       │\n",
       "│                10752 │          72 │        116 │     1.5 │ Product arrived damaged, no response from …  │ bad       │\n",
       "│                10753 │         145 │        353 │     2.0 │ Cheaply made, fell apart after a short time. │ bad       │\n",
       "│                10754 │         486 │        229 │     4.5 │ Great quality and value for money.           │ good      │\n",
       "│                10755 │          60 │        342 │     4.5 │ Very satisfied with the product. Will buy …  │ good      │\n",
       "│                10756 │         127 │        304 │     4.0 │ Excellent product! Highly recommended.       │ good      │\n",
       "│                10757 │         219 │        253 │     3.5 │ Very satisfied with the product. Will buy …  │ good      │\n",
       "│                10758 │         280 │        432 │     4.5 │ Top-notch quality, worth every penny.        │ good      │\n",
       "│                10759 │         143 │        115 │     4.0 │ Excellent product! Highly recommended.       │ good      │\n",
       "├──────────────────────┴─────────────┴────────────┴─────────┴──────────────────────────────────────────────┴───────────┤\n",
       "│ 5000 rows (20 shown)                                                                                       6 columns │\n",
       "└──────────────────────────────────────────────────────────────────────────────────────────────────────────────────────┘"
      ]
     },
     "execution_count": 78,
     "metadata": {},
     "output_type": "execute_result"
    }
   ],
   "source": [
    " conn.sql(\"SELECT * FROM A\")"
   ]
  },
  {
   "cell_type": "code",
   "execution_count": 36,
   "id": "9e9d23d3-557f-4e9c-91b9-e324d66d1320",
   "metadata": {},
   "outputs": [
    {
     "name": "stdout",
     "output_type": "stream",
     "text": [
      "customer_product_ratings.csv\n",
      "campaign_product_subcategory.csv\n",
      "orders.csv\n",
      "supplier.csv\n",
      "payment_method.csv\n",
      "orderitem.csv\n",
      "customer.csv\n",
      "category.csv\n",
      "returns.csv\n",
      "marketing_campaigns.csv\n",
      "product.csv\n",
      "subcategory.csv\n"
     ]
    }
   ],
   "source": [
    "for file in files:\n",
    "    if file.find('.csv') != -1:\n",
    "        print(file)\n",
    "        df +duckdb.read_csv(diretorio + file)"
   ]
  },
  {
   "cell_type": "code",
   "execution_count": 37,
   "id": "4163c51e-c70b-41d3-aa80-c162a095dfe5",
   "metadata": {},
   "outputs": [
    {
     "data": {
      "text/plain": [
       "┌────────────────┬──────────────────┬─────────────┐\n",
       "│ subcategory_id │ subcategory_name │ category_id │\n",
       "│     int64      │     varchar      │    int64    │\n",
       "├────────────────┼──────────────────┼─────────────┤\n",
       "│              1 │ Smartphones      │           1 │\n",
       "│              2 │ Laptops          │           1 │\n",
       "│              3 │ Headphones       │           1 │\n",
       "│              4 │ Cameras          │           1 │\n",
       "│              5 │ Wearables        │           1 │\n",
       "│              6 │ T-Shirts         │           2 │\n",
       "│              7 │ Dresses          │           2 │\n",
       "│              8 │ Jeans            │           2 │\n",
       "│              9 │ Sweaters         │           2 │\n",
       "│             10 │ Activewear       │           2 │\n",
       "│              · │     ·            │           · │\n",
       "│              · │     ·            │           · │\n",
       "│              · │     ·            │           · │\n",
       "│             91 │ Running Shoes    │          19 │\n",
       "│             92 │ Casual Shoes     │          19 │\n",
       "│             93 │ Boots            │          19 │\n",
       "│             94 │ Sandals          │          19 │\n",
       "│             95 │ Athletic Shoes   │          19 │\n",
       "│             96 │ Analog Watches   │          20 │\n",
       "│             97 │ Digital Watches  │          20 │\n",
       "│             98 │ Smartwatches     │          20 │\n",
       "│             99 │ Luxury Watches   │          20 │\n",
       "│            100 │ Sports Watches   │          20 │\n",
       "├────────────────┴──────────────────┴─────────────┤\n",
       "│ 100 rows (20 shown)                   3 columns │\n",
       "└─────────────────────────────────────────────────┘"
      ]
     },
     "execution_count": 37,
     "metadata": {},
     "output_type": "execute_result"
    }
   ],
   "source": [
    "df"
   ]
  },
  {
   "cell_type": "code",
   "execution_count": 33,
   "id": "d13b9b88-be99-4195-bfd3-b4f3495c754b",
   "metadata": {},
   "outputs": [
    {
     "ename": "CatalogException",
     "evalue": "Catalog Error: Table with name subcategory does not exist!\nDid you mean \"temp.information_schema.schemata\"?",
     "output_type": "error",
     "traceback": [
      "\u001b[0;31m---------------------------------------------------------------------------\u001b[0m",
      "\u001b[0;31mCatalogException\u001b[0m                          Traceback (most recent call last)",
      "Cell \u001b[0;32mIn[33], line 1\u001b[0m\n\u001b[0;32m----> 1\u001b[0m \u001b[43mduckdb\u001b[49m\u001b[38;5;241;43m.\u001b[39;49m\u001b[43msql\u001b[49m\u001b[43m(\u001b[49m\u001b[38;5;124;43m'\u001b[39;49m\u001b[38;5;124;43mSELECT * FROM \u001b[39;49m\u001b[38;5;124;43m\"\u001b[39;49m\u001b[38;5;124;43msubcategory\u001b[39;49m\u001b[38;5;124;43m\"\u001b[39;49m\u001b[38;5;124;43m LIMIT 10\u001b[39;49m\u001b[38;5;124;43m'\u001b[39;49m\u001b[43m)\u001b[49m\n",
      "File \u001b[0;32m~/Documentos/env-python/env/lib/python3.10/site-packages/duckdb/__init__.py:457\u001b[0m, in \u001b[0;36msql\u001b[0;34m(query, **kwargs)\u001b[0m\n\u001b[1;32m    455\u001b[0m \u001b[38;5;28;01melse\u001b[39;00m:\n\u001b[1;32m    456\u001b[0m     conn \u001b[38;5;241m=\u001b[39m duckdb\u001b[38;5;241m.\u001b[39mconnect(\u001b[38;5;124m\"\u001b[39m\u001b[38;5;124m:default:\u001b[39m\u001b[38;5;124m\"\u001b[39m)\n\u001b[0;32m--> 457\u001b[0m \u001b[38;5;28;01mreturn\u001b[39;00m \u001b[43mconn\u001b[49m\u001b[38;5;241;43m.\u001b[39;49m\u001b[43msql\u001b[49m\u001b[43m(\u001b[49m\u001b[43mquery\u001b[49m\u001b[43m,\u001b[49m\u001b[43m \u001b[49m\u001b[38;5;241;43m*\u001b[39;49m\u001b[38;5;241;43m*\u001b[39;49m\u001b[43mkwargs\u001b[49m\u001b[43m)\u001b[49m\n",
      "\u001b[0;31mCatalogException\u001b[0m: Catalog Error: Table with name subcategory does not exist!\nDid you mean \"temp.information_schema.schemata\"?"
     ]
    }
   ],
   "source": [
    "duckdb.sql('SELECT * FROM \"subcategory\" LIMIT 10')"
   ]
  },
  {
   "cell_type": "code",
   "execution_count": null,
   "id": "f8a1b0c6-6040-4486-8904-4607ee2b24d8",
   "metadata": {},
   "outputs": [],
   "source": [
    "os.path.append('/home/rafaelfabrichimidt/Documentos/projetos/docker/postgresql/datas')"
   ]
  },
  {
   "cell_type": "code",
   "execution_count": null,
   "id": "775f16d7-4622-451c-84ac-7700adfae4ce",
   "metadata": {},
   "outputs": [],
   "source": [
    "duckdb.read_csv()"
   ]
  }
 ],
 "metadata": {
  "kernelspec": {
   "display_name": "Python 3 (ipykernel)",
   "language": "python",
   "name": "python3"
  },
  "language_info": {
   "codemirror_mode": {
    "name": "ipython",
    "version": 3
   },
   "file_extension": ".py",
   "mimetype": "text/x-python",
   "name": "python",
   "nbconvert_exporter": "python",
   "pygments_lexer": "ipython3",
   "version": "3.10.12"
  }
 },
 "nbformat": 4,
 "nbformat_minor": 5
}
